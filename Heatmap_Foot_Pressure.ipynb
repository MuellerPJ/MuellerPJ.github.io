{
 "cells": [
  {
   "cell_type": "markdown",
   "id": "48969db0-37fc-4fa5-af4f-c4fabae568d3",
   "metadata": {},
   "source": [
    "# Heatmap of Maximum Foot Pressure Data During Running\n",
    "## Background\n",
    "As part of my master’s thesis, I created heatmaps of the average maximum pressure values of the foot during running across multiple subjects at the same speed and wearing the same shoes. In this notebook, I demonstrate how I created these heatmaps using one of the speed/shoe combinations. For those interested in the details of the data acquisition, I’ll briefly go over the measurement setup used, excerpting a minor section of my thesis.\n",
    "<br>\n",
    "<br>\n",
    "\"The force and pressure data for each step were collected using the FDM-THQ 3i pressure distribution measurement system (Zebris medical GmbH, Isny, Germany). It consists of a pressure sensor mat covering an area of 135.5 x 54.1 cm that is integrated into a quasar® lt treadmill (h/p/cosmos sports and medical GmbH, Nussdorf-Traunstein, Germany) with a running surface of 170 x 65 cm, and the associated Zebris FDM v1.18.48 software, also by Zebris.\n",
    "<br>\n",
    "The mat consists of a matrix of 10,240 high-quality capacitive pressure sensors arranged in closely spaced columns and rows, providing a resolution of 1.4 sensors/cm². The sensors operate within a calibrated measurement range of 1-120 N/cm² with an accuracy of ±5% within this range. Once a pressure threshold of 1 N/cm² is exceeded, the sensors start to record a step and cease recording when the pressure falls below this threshold. Data were recorded at a frequency of 300 Hz (Zebris Medical GmbH, 2019).\n",
    "<br>\n",
    "<br>\n",
    "Data acquisition was managed through the Zebris software, which also automatically created a matrix of pressure values across the foot and stored them in a CSV file for each trial."
   ]
  },
  {
   "cell_type": "markdown",
   "id": "6874d4b9-afbc-4606-af17-827d015e7a4e",
   "metadata": {},
   "source": [
    "## Data Loading and Exploration"
   ]
  },
  {
   "cell_type": "code",
   "execution_count": 1,
   "id": "c368016d-6c74-4826-90aa-dbdba135bb41",
   "metadata": {},
   "outputs": [],
   "source": [
    "# import libraries\n",
    "import pandas as pd\n",
    "import numpy as np\n",
    "import matplotlib\n",
    "import matplotlib.pyplot as plt\n",
    "from matplotlib.colors import ListedColormap\n",
    "from scipy.interpolate import RegularGridInterpolator\n",
    "import glob\n",
    "import csv"
   ]
  },
  {
   "cell_type": "code",
   "execution_count": 2,
   "id": "985577fa-263a-4a87-91f6-d355605e6a1d",
   "metadata": {},
   "outputs": [],
   "source": [
    "# define file path\n",
    "base_path = '../data/*/pressure-plots_stance_maximum-R.csv'"
   ]
  },
  {
   "cell_type": "markdown",
   "id": "662cc175-1445-4e26-bfa0-75fadb62af2a",
   "metadata": {},
   "source": [
    "There are two minor issues with the data:\n",
    "1. The structure of the initial rows within each CSV file differs from the rest of the file, making it impossible to use the head() function, as this function isn't robust enough to handle the empty cells created by the inconsistent structure within each file. This complicates the process of gathering information on how to manipulate each DataFrame in order to get a usable matrix.\n",
    "2. Depending on the recording date, different versions of the recording software were used. Consequently, the CSV file separator can be either \";\" or \"\\t\"."
   ]
  },
  {
   "cell_type": "code",
   "execution_count": 3,
   "id": "95c1a1b9-9dea-4584-81af-2d15d6c4de02",
   "metadata": {},
   "outputs": [
    {
     "name": "stdout",
     "output_type": "stream",
     "text": [
      "ï»¿type\tname\ttime_units\tbegin_time\tfrequency\tcount\tunits\tcell_count_x\tcell_count_y\tcell_size_mm_x\tcell_size_mm_y\n",
      "\n",
      "signal_matrix\t\"R Maximaldruckbilder, Stand, Maximum\"\t\"s\"\t0.000\t1\t1\t\"N/cmÂ²\"\t18\t40\t8.469\t8.469\n",
      "\n",
      "\n",
      "\n",
      "time\tx1\tx2\tx3\tx4\tx5\tx6\tx7\tx8\tx9\tx10\tx11\tx12\tx13\tx14\tx15\tx16\tx17\tx18\n",
      "\n",
      "0.000\t0.000\t0.000\t0.000\t0.000\t0.001\t0.004\t0.005\t0.006\t0.009\t0.014\t0.008\t0.001\t0.000\t0.000\t0.000\t0.000\t0.000\t0.000\n",
      "\n",
      "\t0.000\t0.000\t0.005\t0.138\t0.546\t1.128\t1.298\t1.375\t1.188\t1.415\t1.034\t0.290\t0.039\t0.000\t0.000\t0.000\t0.000\t0.000\n",
      "\n"
     ]
    }
   ],
   "source": [
    "# get the list of CSV files matching the path\n",
    "csv_files = glob.glob(base_path)\n",
    "\n",
    "\n",
    "# inspect the first few lines of the first file to understand its structure\n",
    "with open(csv_files[0], 'r') as file:\n",
    "    for i in range(6):\n",
    "        print(file.readline())"
   ]
  },
  {
   "cell_type": "markdown",
   "id": "70c697a9-63fe-4fea-ab38-6357e68c43ba",
   "metadata": {},
   "source": [
    "This output shows that the first three rows are either different in structure or empty and can therefore be removed, leaving the fourth row to serve as column headers. Additionally, with the initial rows removed, the first column contains only one value that does not belong to the overall matrix and can therefore be removed. Let’s see how the header of the matrix looks now with the first three rows skipped and the first column removed."
   ]
  },
  {
   "cell_type": "code",
   "execution_count": 4,
   "id": "23189d83-9302-490b-b0e1-a4869da59e95",
   "metadata": {},
   "outputs": [
    {
     "name": "stdout",
     "output_type": "stream",
     "text": [
      "    x1     x2     x3     x4      x5      x6      x7      x8      x9     x10  \\\n",
      "0  0.0  0.000  0.000  0.000   0.001   0.004   0.005   0.006   0.009   0.014   \n",
      "1  0.0  0.000  0.005  0.138   0.546   1.128   1.298   1.375   1.188   1.415   \n",
      "2  0.0  0.004  0.319  1.678   3.646   4.410   4.317   4.716   4.111   3.724   \n",
      "3  0.0  0.102  1.457  4.921   8.190   9.209   8.110   7.983   7.935   6.118   \n",
      "4  0.0  0.462  3.679  8.935  12.930  13.692  11.763  12.164  13.094  11.134   \n",
      "\n",
      "     x11    x12    x13    x14    x15   x16  x17  x18  \n",
      "0  0.008  0.001  0.000  0.000  0.000  0.00  0.0  0.0  \n",
      "1  1.034  0.290  0.039  0.000  0.000  0.00  0.0  0.0  \n",
      "2  3.346  1.884  0.459  0.002  0.000  0.00  0.0  0.0  \n",
      "3  5.124  4.270  1.779  0.299  0.025  0.00  0.0  0.0  \n",
      "4  7.352  5.946  4.440  2.483  0.576  0.02  0.0  0.0  \n"
     ]
    }
   ],
   "source": [
    "# skipping the first three rows and dropping the first column of the test dataframe\n",
    "df = pd.read_csv(csv_files[0], sep='\\t', skiprows=3) \n",
    "df.drop(df.columns[0], axis=1, inplace=True)\n",
    "print(df.head())"
   ]
  },
  {
   "cell_type": "markdown",
   "id": "d9a27069-1821-4ee0-822e-c63e4eb3bcc5",
   "metadata": {},
   "source": [
    "## Data Cleaning and Transformation\n",
    "The idea for this section is to store all the matrices in a list and then create a mean of those matrices, which can then be visualized. To achieve a clear picture, a new size for the graphic must be defined. Additionally, a function is created that can detect the separator for each CSV file."
   ]
  },
  {
   "cell_type": "code",
   "execution_count": 5,
   "id": "6ad388f9-2ff2-4136-899e-e73648534d63",
   "metadata": {},
   "outputs": [],
   "source": [
    "# create a list to store all dataframes in\n",
    "dfs = []\n",
    "\n",
    "# define the new size of the matrix (original size is 40x18)\n",
    "new_size = (336, 144)\n",
    "\n",
    "# create function to detect the delimiter/seperator for each CSV file\n",
    "def detect_delimiter(file_path):\n",
    "    with open(file_path, 'r') as f:\n",
    "        first_line = f.readline()\n",
    "        sniffer = csv.Sniffer()\n",
    "        delimiter = sniffer.sniff(first_line).delimiter\n",
    "    return delimiter"
   ]
  },
  {
   "cell_type": "markdown",
   "id": "3418ae91-204f-4f3d-80a5-610cd4a9f6f0",
   "metadata": {},
   "source": [
    "Next, the code iterates over each file in a for loop, detecting its individual separator, removing unnecessary rows and columns, and interpolating all the matrices to the new size before storing them in the list."
   ]
  },
  {
   "cell_type": "code",
   "execution_count": 6,
   "id": "348caef7-9f89-4127-aaad-278891d9c791",
   "metadata": {},
   "outputs": [],
   "source": [
    "# iterating over all fitting csv files in the chosen path\n",
    "for file in glob.glob(base_path):\n",
    "    # detect the delimiter\n",
    "    sep = detect_delimiter(file)\n",
    "\n",
    "    # load csv file as dataframe, skip first three rows and drop first column\n",
    "    df = pd.read_csv(file, skiprows=3, sep=sep)\n",
    "    df = df.drop(df.columns[0], axis=1) \n",
    "\n",
    "    # add row of zeros at the top, bottom and left of the matrix as it will be displayed as white and widen to the border of the heatmap\n",
    "    df = pd.concat([pd.DataFrame(np.zeros((1, df.shape[1])), columns=df.columns), df], ignore_index=True)\n",
    "    df.insert(0, 'zero_col', 0)\n",
    "    df.loc[df.shape[0]] = 0\n",
    "\n",
    "    # interpolate to the new size\n",
    "    x = np.arange(0, df.shape[1])\n",
    "    y = np.arange(0, df.shape[0])\n",
    "    interpolating_function = RegularGridInterpolator((y, x), df.values, method='cubic')\n",
    "    x_new = np.linspace(0, df.shape[1]-1, new_size[1])\n",
    "    y_new = np.linspace(0, df.shape[0]-1, new_size[0])\n",
    "    xx, yy = np.meshgrid(x_new, y_new)\n",
    "    df_new = interpolating_function((yy, xx))\n",
    "\n",
    "    # append interpolated dataframe to the list\n",
    "    dfs.append(df_new)"
   ]
  },
  {
   "cell_type": "markdown",
   "id": "5011695e-ea34-43c3-8ed5-861a8aa0728d",
   "metadata": {},
   "source": [
    "As a last step, the list of interpolated dataframes is converted into a 3D numpy array. Then, the mean of all matrices is calculated to create a single matrix that can be visualized."
   ]
  },
  {
   "cell_type": "code",
   "execution_count": 7,
   "id": "d03ead57-4167-481f-81cb-726d3b745ab0",
   "metadata": {},
   "outputs": [],
   "source": [
    "# convert list of interpolated dataframes to a 3D numpy array\n",
    "data = np.array(dfs)\n",
    "\n",
    "# generate the mean of all matrices\n",
    "mean_matrix = data.mean(axis=0)"
   ]
  },
  {
   "cell_type": "markdown",
   "id": "9b02a439-9745-4240-8c84-c5ee49de1fa7",
   "metadata": {},
   "source": [
    "## Data Visualization"
   ]
  },
  {
   "cell_type": "code",
   "execution_count": 8,
   "id": "867440d0-a46d-453a-ac7a-b11c90bd289e",
   "metadata": {},
   "outputs": [
    {
     "data": {
      "image/png": "[encoded data removed]",
      "text/plain": [
       "<Figure size 400x500 with 2 Axes>"
      ]
     },
     "metadata": {},
     "output_type": "display_data"
    }
   ],
   "source": [
    "# define custom color ranges based on the color codes the zebris application is using\n",
    "cmap_colors = [(0.0, 'white'), (0.45, '#c0c0c0'), (1.5, '#1c00a3'), (3.0, '#3200ff'), (4.5, '#3126ff'), (6.0, '#2e78ff'),\n",
    "                (7.5, '#29acff'), (9.0, '#13e0e0'), (10.5, '#00813b'), (12.0, '#00a200'), (13.5, '#00c300'),\n",
    "                (15.0, '#00e300'), (16.5, '#00ff00'), (18.0, '#9aff00'), (19.5, '#fbff00'), (21.0, '#fdc300'),\n",
    "                (22.5, '#fda200'), (24.0, '#fd8200'), (25.5, '#fe0100'),(27.0, '#bf0000'), (28.5, '#9f0000'), (30.0, '#9f0000')]\n",
    "\n",
    "# create a ListedColormap object using the defined colors\n",
    "cmap = ListedColormap([color for value, color in cmap_colors])\n",
    "bounds = [color_value for color_value, color in cmap_colors]\n",
    "\n",
    "# create a color map with the mean matrix\n",
    "fig, ax = plt.subplots(figsize=(4, 5))\n",
    "im = ax.imshow(mean_matrix, cmap=cmap, norm=matplotlib.colors.BoundaryNorm(bounds, cmap.N))\n",
    "cbar = ax.figure.colorbar(im, ax=ax, format=matplotlib.ticker.FuncFormatter(lambda x, p: format(int(x), ',')))\n",
    "cbar.set_ticks([0.45, 3, 6, 9, 12, 15, 18, 21, 24, 27, 30])\n",
    "\n",
    "# set the colorbar label and rotate it horizontally\n",
    "cbar.ax.set_xlabel('N/cm$^2$', rotation=0)\n",
    "cbar.ax.xaxis.set_label_coords(0.75, 1.08)\n",
    "\n",
    "# turn off the axis and frame for a cleaner look\n",
    "ax.set_axis_off()\n",
    "ax.set_frame_on(False)\n",
    "\n",
    "# display the plot\n",
    "plt.show()"
   ]
  }
 ],
 "metadata": {
  "kernelspec": {
   "display_name": "Python 3 (ipykernel)",
   "language": "python",
   "name": "python3"
  },
  "language_info": {
   "codemirror_mode": {
    "name": "ipython",
    "version": 3
   },
   "file_extension": ".py",
   "mimetype": "text/x-python",
   "name": "python",
   "nbconvert_exporter": "python",
   "pygments_lexer": "ipython3",
   "version": "3.11.5"
  }
 },
 "nbformat": 4,
 "nbformat_minor": 5
}
